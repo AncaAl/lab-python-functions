{
 "cells": [
  {
   "cell_type": "markdown",
   "id": "25d7736c-ba17-4aff-b6bb-66eba20fbf4e",
   "metadata": {},
   "source": [
    "# Lab | Functions"
   ]
  },
  {
   "cell_type": "markdown",
   "id": "0c581062-8967-4d93-b06e-62833222f930",
   "metadata": {
    "tags": []
   },
   "source": [
    "## Exercise: Managing Customer Orders with Functions\n",
    "\n",
    "In the previous exercise, you improved the code for managing customer orders by using loops and flow control. Now, let's take it a step further and refactor the code by introducing functions.\n",
    "\n",
    "Follow the steps below to complete the exercise:\n",
    "\n",
    "1. Define a function named `initialize_inventory` that takes `products` as a parameter. Inside the function, implement the code for initializing the inventory dictionary using a loop and user input.\n",
    "\n",
    "2. Define a function named `get_customer_orders` that takes no parameters. Inside the function, implement the code for prompting the user to enter the product names using a loop. The function should return the `customer_orders` set.\n",
    "\n",
    "3. Define a function named `update_inventory` that takes `customer_orders` and `inventory` as parameters. Inside the function, implement the code for updating the inventory dictionary based on the customer orders.\n",
    "\n",
    "4. Define a function named `calculate_order_statistics` that takes `customer_orders` and `products` as parameters. Inside the function, implement the code for calculating the order statistics (total products ordered, and percentage of unique products ordered). The function should return these values.\n",
    "\n",
    "5. Define a function named `print_order_statistics` that takes `order_statistics` as a parameter. Inside the function, implement the code for printing the order statistics.\n",
    "\n",
    "6. Define a function named `print_updated_inventory` that takes `inventory` as a parameter. Inside the function, implement the code for printing the updated inventory.\n",
    "\n",
    "7. Call the functions in the appropriate sequence to execute the program and manage customer orders.\n",
    "\n",
    "Hints for functions:\n",
    "\n",
    "- Consider the input parameters required for each function and their return values.\n",
    "- Utilize function parameters and return values to transfer data between functions.\n",
    "- Test your functions individually to ensure they work correctly.\n",
    "\n",
    "\n"
   ]
  },
  {
   "cell_type": "markdown",
   "id": "6a9fe047-f1a2-4fdc-8cf2-7a6d35ee4d0a",
   "metadata": {},
   "source": [
    "##### 1. Define a function named initialize_inventory that takes products as a parameter. Inside the function, implement the code for initializing the inventory dictionary using a loop and user input."
   ]
  },
  {
   "cell_type": "code",
   "execution_count": 76,
   "id": "5eadc7e7-8be0-4627-ad32-0c63277ac7f7",
   "metadata": {},
   "outputs": [],
   "source": [
    "products = [\"t-shirt\", \"mug\", \"hat\", \"book\", \"keychain\"]\n",
    "#inventory = {}\n",
    "def initialize_inventory(products):\n",
    "    inventory = {}\n",
    "    for item in products:\n",
    "        products_qty = int(input(f\"Please enter qty for {item}: \"))\n",
    "        inventory[item] = products_qty\n",
    "    return inventory"
   ]
  },
  {
   "cell_type": "code",
   "execution_count": 27,
   "id": "9b64848e-b352-42ee-8e1e-98527e821a83",
   "metadata": {},
   "outputs": [
    {
     "name": "stdin",
     "output_type": "stream",
     "text": [
      "Please enter qty for t-shirt:  5\n",
      "Please enter qty for mug:  5\n",
      "Please enter qty for hat:  5\n",
      "Please enter qty for book:  5\n",
      "Please enter qty for keychain:  5\n"
     ]
    },
    {
     "data": {
      "text/plain": [
       "{'t-shirt': 5, 'mug': 5, 'hat': 5, 'book': 5, 'keychain': 5}"
      ]
     },
     "execution_count": 27,
     "metadata": {},
     "output_type": "execute_result"
    }
   ],
   "source": [
    "initialize_inventory(products)"
   ]
  },
  {
   "cell_type": "markdown",
   "id": "13f8409a-d6ee-459e-9f5d-4dec234bc6c1",
   "metadata": {},
   "source": [
    "##### 2. Define a function named get_customer_orders that takes no parameters. Inside the function, implement the code for prompting the user to enter the product names using a loop. The function should return the customer_orders set.\n"
   ]
  },
  {
   "cell_type": "code",
   "execution_count": 77,
   "id": "83168b4e-80a0-4d44-bdf0-c50b4dbb1af9",
   "metadata": {},
   "outputs": [],
   "source": [
    "customer_orders = set()\n",
    "\n",
    "def get_customer_orders():\n",
    "    questions = 'yes'\n",
    "    while questions == \"yes\":\n",
    "        products_ordered = input(\"What product do you want to order?\")\n",
    "        customer_orders.add(products_ordered)\n",
    "        questions = input (\"Do you want to order another products? (yes/no)  \")\n",
    "    return customer_orders"
   ]
  },
  {
   "cell_type": "code",
   "execution_count": 29,
   "id": "cda34e3c-49d8-448f-80f4-3e9c07106147",
   "metadata": {},
   "outputs": [
    {
     "name": "stdin",
     "output_type": "stream",
     "text": [
      "What product do you want to order? book\n",
      "Do you want to order another products? (yes/no)   yes\n",
      "What product do you want to order? mug\n",
      "Do you want to order another products? (yes/no)   yes\n",
      "What product do you want to order? hat\n",
      "Do you want to order another products? (yes/no)   no\n"
     ]
    },
    {
     "data": {
      "text/plain": [
       "{'book', 'hat', 'mug'}"
      ]
     },
     "execution_count": 29,
     "metadata": {},
     "output_type": "execute_result"
    }
   ],
   "source": [
    "get_customer_orders()"
   ]
  },
  {
   "cell_type": "markdown",
   "id": "86004943-a525-4e0a-966a-fab94dbe84c8",
   "metadata": {},
   "source": [
    "##### 3. Define a function named update_inventory that takes customer_orders and inventory as parameters. Inside the function, implement the code for updating the inventory dictionary based on the customer orders."
   ]
  },
  {
   "cell_type": "code",
   "execution_count": 30,
   "id": "7fd0e7ad-67c5-44d0-941b-1802e1f0b516",
   "metadata": {},
   "outputs": [],
   "source": [
    "def update_inventory(customer_orders, inventory):\n",
    "    for products_ordered in customer_orders:\n",
    "        if products_ordered in inventory.keys():\n",
    "            inventory[products_ordered] -=1\n",
    "    return inventory"
   ]
  },
  {
   "cell_type": "code",
   "execution_count": 31,
   "id": "e5197904-f049-4712-b74f-a723b966f5f5",
   "metadata": {},
   "outputs": [
    {
     "data": {
      "text/plain": [
       "{'t-shirt': 5, 'mug': 4, 'hat': 4, 'book': 4, 'keychain': 5}"
      ]
     },
     "execution_count": 31,
     "metadata": {},
     "output_type": "execute_result"
    }
   ],
   "source": [
    "update_inventory(customer_orders, inventory)"
   ]
  },
  {
   "cell_type": "markdown",
   "id": "30f451d6-bf4e-4d14-924e-cf7052fe151d",
   "metadata": {},
   "source": [
    "##### 4. Define a function named calculate_order_statistics that takes customer_orders and products as parameters. Inside the function, implement the code for calculating the order statistics (total products ordered, and percentage of unique products ordered). The function should return these values."
   ]
  },
  {
   "cell_type": "code",
   "execution_count": 50,
   "id": "5e2a855a-37cc-48cb-a8a0-0752aa20f960",
   "metadata": {},
   "outputs": [],
   "source": [
    "def calculate_order_statistics(customer_orders, products):\n",
    "    total_ordered = len(customer_orders)\n",
    "    total_ordered\n",
    "    total_inventory = len(inventory.keys())\n",
    "    total_inventory\n",
    "    percentage_ordered = (total_ordered/total_inventory)*100\n",
    "    percentage_ordered\n",
    "    return total_ordered, percentage_ordered"
   ]
  },
  {
   "cell_type": "code",
   "execution_count": 51,
   "id": "1fe2921f-a119-4268-ab3c-cbed61f2ff58",
   "metadata": {},
   "outputs": [
    {
     "data": {
      "text/plain": [
       "(3, 60.0)"
      ]
     },
     "execution_count": 51,
     "metadata": {},
     "output_type": "execute_result"
    }
   ],
   "source": [
    "calculate_order_statistics(customer_orders, products)"
   ]
  },
  {
   "cell_type": "markdown",
   "id": "3abd48c2-a967-4f09-a911-f7a24b0cfcba",
   "metadata": {},
   "source": [
    "##### 5. Define a function named print_order_statistics that takes order_statistics as a parameter. Inside the function, implement the code for printing the order statistics."
   ]
  },
  {
   "cell_type": "code",
   "execution_count": 66,
   "id": "a17ccfbf-d566-450e-8315-5df532bcab28",
   "metadata": {},
   "outputs": [],
   "source": [
    "total_ordered = len(customer_orders)"
   ]
  },
  {
   "cell_type": "code",
   "execution_count": 67,
   "id": "bad7be6a-3e99-45fa-9cdb-c45e0e64abb4",
   "metadata": {},
   "outputs": [],
   "source": [
    "total_inventory = len(inventory.keys())"
   ]
  },
  {
   "cell_type": "code",
   "execution_count": 68,
   "id": "a46b4c88-9382-4389-a54a-638eb30f9e28",
   "metadata": {},
   "outputs": [],
   "source": [
    "percentage_ordered = (total_ordered/total_inventory)*100"
   ]
  },
  {
   "cell_type": "code",
   "execution_count": 69,
   "id": "f7535ca5-0bcc-459a-91e3-bd2cd47e34be",
   "metadata": {},
   "outputs": [],
   "source": [
    "def print_order_statistics(calculate_order_statistics):\n",
    "    print(f\"\"\"\n",
    "        Order Statistics:\n",
    "        Total Products Ordered: {total_ordered}\n",
    "        Percentage of Products Ordered: {percentage_ordered}%\n",
    "        \"\"\")\n",
    "    return"
   ]
  },
  {
   "cell_type": "code",
   "execution_count": 70,
   "id": "1836a75d-9785-44e7-86d3-06d79203ad05",
   "metadata": {},
   "outputs": [
    {
     "name": "stdout",
     "output_type": "stream",
     "text": [
      "\n",
      "        Order Statistics:\n",
      "        Total Products Ordered: 3\n",
      "        Percentage of Products Ordered: 60.0%\n",
      "        \n"
     ]
    }
   ],
   "source": [
    "print_order_statistics(calculate_order_statistics)"
   ]
  },
  {
   "cell_type": "markdown",
   "id": "4dab0e86-3c13-4762-a8e5-413234eef105",
   "metadata": {},
   "source": [
    "##### 6. Define a function named print_updated_inventory that takes inventory as a parameter. Inside the function, implement the code for printing the updated inventory."
   ]
  },
  {
   "cell_type": "code",
   "execution_count": 73,
   "id": "7043675a-11a2-4946-bacf-f56d3e30b41f",
   "metadata": {},
   "outputs": [],
   "source": [
    "#6. Define a function named print_updated_inventory that takes inventory as a parameter. Inside the function, \n",
    "#implement the code for printing the updated inventory.\n",
    "\n",
    "def print_updated_inventory(inventory):\n",
    "    print(inventory)"
   ]
  },
  {
   "cell_type": "code",
   "execution_count": 74,
   "id": "c1bf8079-7d50-4dfd-ac36-07c3e6c81e0b",
   "metadata": {},
   "outputs": [
    {
     "name": "stdout",
     "output_type": "stream",
     "text": [
      "{'t-shirt': 5, 'mug': 4, 'hat': 4, 'book': 4, 'keychain': 5}\n"
     ]
    }
   ],
   "source": [
    "print_updated_inventory(inventory)"
   ]
  },
  {
   "cell_type": "markdown",
   "id": "32ce7c64-b73f-4708-bd97-9782d238de5c",
   "metadata": {},
   "source": [
    "##### 7. Call the functions in the appropriate sequence to execute the program and manage customer orders."
   ]
  },
  {
   "cell_type": "code",
   "execution_count": 75,
   "id": "52503f91-0fe1-43d9-af60-d1bf04a61cb4",
   "metadata": {},
   "outputs": [
    {
     "name": "stdin",
     "output_type": "stream",
     "text": [
      "Please enter qty for t-shirt:  5\n",
      "Please enter qty for mug:  5\n",
      "Please enter qty for hat:  5\n",
      "Please enter qty for book:  5\n",
      "Please enter qty for keychain:  5\n",
      "What product do you want to order? book\n",
      "Do you want to order another products? (yes/no)   yes\n",
      "What product do you want to order? mug\n",
      "Do you want to order another products? (yes/no)   yes\n",
      "What product do you want to order? hat\n",
      "Do you want to order another products? (yes/no)   no\n"
     ]
    },
    {
     "name": "stdout",
     "output_type": "stream",
     "text": [
      "\n",
      "        Order Statistics:\n",
      "        Total Products Ordered: 3\n",
      "        Percentage of Products Ordered: 60.0%\n",
      "        \n",
      "{'t-shirt': 5, 'mug': 3, 'hat': 3, 'book': 3, 'keychain': 5}\n"
     ]
    }
   ],
   "source": [
    "products = [\"t-shirt\", \"mug\", \"hat\", \"book\", \"keychain\"]\n",
    "\n",
    "initialize_inventory(products)\n",
    "\n",
    "customer_orders = set()\n",
    "get_customer_orders()\n",
    "\n",
    "update_inventory(customer_orders, inventory)\n",
    "\n",
    "calculate_order_statistics(customer_orders, products)\n",
    "\n",
    "total_ordered = len(customer_orders)\n",
    "total_inventory = len(inventory.keys())\n",
    "percentage_ordered = (total_ordered/total_inventory)*100\n",
    "print_order_statistics(calculate_order_statistics)\n",
    "\n",
    "print_updated_inventory(inventory)"
   ]
  }
 ],
 "metadata": {
  "kernelspec": {
   "display_name": "Python 3 (ipykernel)",
   "language": "python",
   "name": "python3"
  },
  "language_info": {
   "codemirror_mode": {
    "name": "ipython",
    "version": 3
   },
   "file_extension": ".py",
   "mimetype": "text/x-python",
   "name": "python",
   "nbconvert_exporter": "python",
   "pygments_lexer": "ipython3",
   "version": "3.11.7"
  }
 },
 "nbformat": 4,
 "nbformat_minor": 5
}
